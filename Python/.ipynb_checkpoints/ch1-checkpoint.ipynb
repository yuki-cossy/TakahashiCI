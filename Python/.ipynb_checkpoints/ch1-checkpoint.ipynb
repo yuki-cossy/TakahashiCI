{
 "cells": [
  {
   "cell_type": "code",
   "execution_count": 1,
   "metadata": {},
   "outputs": [],
   "source": [
    "import timeit\n",
    "import numpy as np\n",
    "import pandas as pd"
   ]
  },
  {
   "cell_type": "markdown",
   "metadata": {},
   "source": [
    "# 1.9.3"
   ]
  },
  {
   "cell_type": "markdown",
   "metadata": {},
   "source": [
    "表1.2"
   ]
  },
  {
   "cell_type": "code",
   "execution_count": 2,
   "metadata": {},
   "outputs": [
    {
     "data": {
      "text/html": [
       "<div>\n",
       "<style scoped>\n",
       "    .dataframe tbody tr th:only-of-type {\n",
       "        vertical-align: middle;\n",
       "    }\n",
       "\n",
       "    .dataframe tbody tr th {\n",
       "        vertical-align: top;\n",
       "    }\n",
       "\n",
       "    .dataframe thead th {\n",
       "        text-align: right;\n",
       "    }\n",
       "</style>\n",
       "<table border=\"1\" class=\"dataframe\">\n",
       "  <thead>\n",
       "    <tr style=\"text-align: right;\">\n",
       "      <th></th>\n",
       "      <th>x1</th>\n",
       "      <th>y1</th>\n",
       "    </tr>\n",
       "  </thead>\n",
       "  <tbody>\n",
       "    <tr>\n",
       "      <th>0</th>\n",
       "      <td>63</td>\n",
       "      <td>63</td>\n",
       "    </tr>\n",
       "    <tr>\n",
       "      <th>1</th>\n",
       "      <td>56</td>\n",
       "      <td>66</td>\n",
       "    </tr>\n",
       "    <tr>\n",
       "      <th>2</th>\n",
       "      <td>51</td>\n",
       "      <td>61</td>\n",
       "    </tr>\n",
       "    <tr>\n",
       "      <th>3</th>\n",
       "      <td>50</td>\n",
       "      <td>60</td>\n",
       "    </tr>\n",
       "    <tr>\n",
       "      <th>4</th>\n",
       "      <td>42</td>\n",
       "      <td>52</td>\n",
       "    </tr>\n",
       "  </tbody>\n",
       "</table>\n",
       "</div>"
      ],
      "text/plain": [
       "   x1  y1\n",
       "0  63  63\n",
       "1  56  66\n",
       "2  51  61\n",
       "3  50  60\n",
       "4  42  52"
      ]
     },
     "execution_count": 2,
     "metadata": {},
     "output_type": "execute_result"
    }
   ],
   "source": [
    "x1 = np.array([63, 56, 51, 50, 42])\n",
    "y1 = np.array([63, 66, 61, 60, 52])\n",
    "df1 = pd.DataFrame({\n",
    "    'x1':x1,\n",
    "    'y1':y1\n",
    "    })\n",
    "df1"
   ]
  },
  {
   "cell_type": "code",
   "execution_count": 3,
   "metadata": {},
   "outputs": [
    {
     "data": {
      "text/plain": [
       "52.4"
      ]
     },
     "execution_count": 3,
     "metadata": {},
     "output_type": "execute_result"
    }
   ],
   "source": [
    "\"\"\"\n",
    "Rとの違い\n",
    "以下はエラーが発生するのでできない\n",
    "np.mean(x1 = np.array([63, 56, 51, 50, 42])) \n",
    "\"\"\"\n",
    "np.array([63, 56, 51, 50, 42]).mean()"
   ]
  },
  {
   "cell_type": "markdown",
   "metadata": {},
   "source": [
    "表1.3"
   ]
  },
  {
   "cell_type": "markdown",
   "metadata": {},
   "source": [
    "## 蛇足"
   ]
  },
  {
   "cell_type": "markdown",
   "metadata": {},
   "source": [
    "今現状で保存しているオブジェクト一覧の表示とかできたらいいな.  \n",
    "--> 多すぎるから把握しきれないよ.  \n",
    "`locals()`, `globals()` で確認することは一応できる.  "
   ]
  },
  {
   "cell_type": "code",
   "execution_count": 4,
   "metadata": {},
   "outputs": [
    {
     "data": {
      "text/plain": [
       "{'__name__': '__main__',\n",
       " '__doc__': '\\nRとの違い\\n以下はエラーが発生するのでできない\\nnp.mean(x1 = np.array([63, 56, 51, 50, 42])) \\n',\n",
       " '__package__': None,\n",
       " '__loader__': None,\n",
       " '__spec__': None,\n",
       " '__builtin__': <module 'builtins' (built-in)>,\n",
       " '__builtins__': <module 'builtins' (built-in)>,\n",
       " '_ih': ['',\n",
       "  'import timeit\\nimport numpy as np\\nimport pandas as pd',\n",
       "  \"x1 = np.array([63, 56, 51, 50, 42])\\ny1 = np.array([63, 66, 61, 60, 52])\\ndf1 = pd.DataFrame({\\n    'x1':x1,\\n    'y1':y1\\n    })\\ndf1\",\n",
       "  '\"\"\"\\nRとの違い\\n以下はエラーが発生するのでできない\\nnp.mean(x1 = np.array([63, 56, 51, 50, 42])) \\n\"\"\"\\nnp.array([63, 56, 51, 50, 42]).mean()',\n",
       "  'display(locals())'],\n",
       " '_oh': {2:    x1  y1\n",
       "  0  63  63\n",
       "  1  56  66\n",
       "  2  51  61\n",
       "  3  50  60\n",
       "  4  42  52,\n",
       "  3: 52.4},\n",
       " '_dh': [PosixPath('/Users/domolm/Library/CloudStorage/GoogleDrive-domokomod5@gmail.com/My Drive/Learning/rakus/CI coding practice/Python'),\n",
       "  PosixPath('/Users/domolm/Library/CloudStorage/GoogleDrive-domokomod5@gmail.com/My Drive/Learning/rakus/CI coding practice/Python')],\n",
       " 'In': ['',\n",
       "  'import timeit\\nimport numpy as np\\nimport pandas as pd',\n",
       "  \"x1 = np.array([63, 56, 51, 50, 42])\\ny1 = np.array([63, 66, 61, 60, 52])\\ndf1 = pd.DataFrame({\\n    'x1':x1,\\n    'y1':y1\\n    })\\ndf1\",\n",
       "  '\"\"\"\\nRとの違い\\n以下はエラーが発生するのでできない\\nnp.mean(x1 = np.array([63, 56, 51, 50, 42])) \\n\"\"\"\\nnp.array([63, 56, 51, 50, 42]).mean()',\n",
       "  'display(locals())'],\n",
       " 'Out': {2:    x1  y1\n",
       "  0  63  63\n",
       "  1  56  66\n",
       "  2  51  61\n",
       "  3  50  60\n",
       "  4  42  52,\n",
       "  3: 52.4},\n",
       " 'get_ipython': <bound method InteractiveShell.get_ipython of <ipykernel.zmqshell.ZMQInteractiveShell object at 0x10c4dca60>>,\n",
       " 'exit': <IPython.core.autocall.ZMQExitAutocall at 0x10c4de1d0>,\n",
       " 'quit': <IPython.core.autocall.ZMQExitAutocall at 0x10c4de1d0>,\n",
       " 'open': <function io.open(file, mode='r', buffering=-1, encoding=None, errors=None, newline=None, closefd=True, opener=None)>,\n",
       " '_': 52.4,\n",
       " '__':    x1  y1\n",
       " 0  63  63\n",
       " 1  56  66\n",
       " 2  51  61\n",
       " 3  50  60\n",
       " 4  42  52,\n",
       " '___': '',\n",
       " 'sys': <module 'sys' (built-in)>,\n",
       " 'os': <module 'os' from '/Users/domolm/.pyenv/versions/3.10.8/lib/python3.10/os.py'>,\n",
       " '__vsc_ipynb_file__': '/Users/domolm/Library/CloudStorage/GoogleDrive-domokomod5@gmail.com/My Drive/Learning/rakus/CI coding practice/Python/ch1.ipynb',\n",
       " '_i': '\"\"\"\\nRとの違い\\n以下はエラーが発生するのでできない\\nnp.mean(x1 = np.array([63, 56, 51, 50, 42])) \\n\"\"\"\\nnp.array([63, 56, 51, 50, 42]).mean()',\n",
       " '_ii': \"x1 = np.array([63, 56, 51, 50, 42])\\ny1 = np.array([63, 66, 61, 60, 52])\\ndf1 = pd.DataFrame({\\n    'x1':x1,\\n    'y1':y1\\n    })\\ndf1\",\n",
       " '_iii': 'import timeit\\nimport numpy as np\\nimport pandas as pd',\n",
       " '_i1': 'import timeit\\nimport numpy as np\\nimport pandas as pd',\n",
       " 'timeit': <module 'timeit' from '/Users/domolm/.pyenv/versions/3.10.8/lib/python3.10/timeit.py'>,\n",
       " 'np': <module 'numpy' from '/Users/domolm/.pyenv/versions/3.10.8/lib/python3.10/site-packages/numpy/__init__.py'>,\n",
       " 'pd': <module 'pandas' from '/Users/domolm/.pyenv/versions/3.10.8/lib/python3.10/site-packages/pandas/__init__.py'>,\n",
       " '_i2': \"x1 = np.array([63, 56, 51, 50, 42])\\ny1 = np.array([63, 66, 61, 60, 52])\\ndf1 = pd.DataFrame({\\n    'x1':x1,\\n    'y1':y1\\n    })\\ndf1\",\n",
       " 'x1': array([63, 56, 51, 50, 42]),\n",
       " 'y1': array([63, 66, 61, 60, 52]),\n",
       " 'df1':    x1  y1\n",
       " 0  63  63\n",
       " 1  56  66\n",
       " 2  51  61\n",
       " 3  50  60\n",
       " 4  42  52,\n",
       " '_2':    x1  y1\n",
       " 0  63  63\n",
       " 1  56  66\n",
       " 2  51  61\n",
       " 3  50  60\n",
       " 4  42  52,\n",
       " '_i3': '\"\"\"\\nRとの違い\\n以下はエラーが発生するのでできない\\nnp.mean(x1 = np.array([63, 56, 51, 50, 42])) \\n\"\"\"\\nnp.array([63, 56, 51, 50, 42]).mean()',\n",
       " '_3': 52.4,\n",
       " '_i4': 'display(locals())'}"
      ]
     },
     "metadata": {},
     "output_type": "display_data"
    }
   ],
   "source": [
    "display(locals())"
   ]
  },
  {
   "cell_type": "code",
   "execution_count": 5,
   "metadata": {},
   "outputs": [
    {
     "data": {
      "text/plain": [
       "['In',\n",
       " 'Out',\n",
       " '_',\n",
       " '_2',\n",
       " '_3',\n",
       " '__',\n",
       " '___',\n",
       " '__builtin__',\n",
       " '__builtins__',\n",
       " '__doc__',\n",
       " '__loader__',\n",
       " '__name__',\n",
       " '__package__',\n",
       " '__spec__',\n",
       " '__vsc_ipynb_file__',\n",
       " '_dh',\n",
       " '_i',\n",
       " '_i1',\n",
       " '_i2',\n",
       " '_i3',\n",
       " '_i4',\n",
       " '_i5',\n",
       " '_ih',\n",
       " '_ii',\n",
       " '_iii',\n",
       " '_oh',\n",
       " 'df1',\n",
       " 'exit',\n",
       " 'get_ipython',\n",
       " 'np',\n",
       " 'open',\n",
       " 'os',\n",
       " 'pd',\n",
       " 'quit',\n",
       " 'sys',\n",
       " 'timeit',\n",
       " 'x1',\n",
       " 'y1']"
      ]
     },
     "execution_count": 5,
     "metadata": {},
     "output_type": "execute_result"
    }
   ],
   "source": [
    "# 変数だけでなく、モジュール名なども含めて名前を羅列する\n",
    "dir()"
   ]
  },
  {
   "cell_type": "markdown",
   "metadata": {},
   "source": [
    "各変数がどの程度のメモリを消費しているかは調べることができる"
   ]
  },
  {
   "cell_type": "code",
   "execution_count": 6,
   "metadata": {},
   "outputs": [
    {
     "data": {
      "text/plain": [
       "208"
      ]
     },
     "execution_count": 6,
     "metadata": {},
     "output_type": "execute_result"
    }
   ],
   "source": [
    "df1.__sizeof__()"
   ]
  },
  {
   "cell_type": "markdown",
   "metadata": {},
   "source": [
    "ちなみにちゃんと df1 が保存されているかを調べたりもできる"
   ]
  },
  {
   "cell_type": "code",
   "execution_count": 7,
   "metadata": {},
   "outputs": [
    {
     "name": "stdout",
     "output_type": "stream",
     "text": [
      "locals() には存在する。\n",
      "globals() には存在しない。\n"
     ]
    }
   ],
   "source": [
    "def exists_in_memory(obj):\n",
    "    memory = 'locals()'\n",
    "    for whereabouts in [locals().keys(), globals().keys()]:\n",
    "        try:\n",
    "            if 'obj' in whereabouts:\n",
    "                print(f'{memory} には存在する。')\n",
    "            else:\n",
    "                print(f'{memory} には存在しない。')\n",
    "        except Exception as err:\n",
    "            print(f'メモリ内探索に関し、想定外のエラー: \\n {err=} \\n {type(err)=}')\n",
    "        finally:\n",
    "            memory = 'globals()'\n",
    "\n",
    "    \n",
    "\n",
    "exists_in_memory(df1)"
   ]
  },
  {
   "cell_type": "markdown",
   "metadata": {},
   "source": [
    "上のコードの実行時間は,   \n",
    "11.4 µs ± 2.12 µs per loop (mean ± std. dev. of 7 runs, 100,000 loops each)"
   ]
  },
  {
   "cell_type": "code",
   "execution_count": 8,
   "metadata": {},
   "outputs": [
    {
     "name": "stdout",
     "output_type": "stream",
     "text": [
      "locals() には存在する。\n",
      "globals() には存在しない。\n"
     ]
    }
   ],
   "source": [
    "def exists_in_memory(obj):\n",
    "    i = 0\n",
    "    memory = ['locals()', 'globals()']\n",
    "    \n",
    "    while i <= 1:\n",
    "        try:\n",
    "            if 'obj' in eval(memory[i]+'.keys()'):\n",
    "                print(f'{memory[i]} には存在する。')\n",
    "            else:\n",
    "                print(f'{memory[i]} には存在しない。')\n",
    "        except Exception as err:\n",
    "            print(f'メモリ内探索に関し、想定外のエラー {err=}, \\n {type(err)=}')\n",
    "        finally:\n",
    "            i += 1\n",
    "\n",
    "    \n",
    "\n",
    "exists_in_memory(df1)"
   ]
  },
  {
   "cell_type": "markdown",
   "metadata": {},
   "source": [
    "上のコードの実行時間は,    \n",
    "106 µs ± 45.7 µs per loop (mean ± std. dev. of 7 runs, 10,000 loops each)   \n",
    "-> while 文って遅いのね"
   ]
  },
  {
   "cell_type": "markdown",
   "metadata": {},
   "source": [
    "## 1.9.3 戻る"
   ]
  },
  {
   "cell_type": "markdown",
   "metadata": {},
   "source": [
    "基本的に Python は明示的にメモリを解放する必要は無いらしい.  \n",
    "よっぽどメモリ的に重いコードを使わない限りは, gc.collect() は気にしなくて良いのかも.   "
   ]
  },
  {
   "cell_type": "code",
   "execution_count": 9,
   "metadata": {},
   "outputs": [
    {
     "data": {
      "text/plain": [
       "160"
      ]
     },
     "execution_count": 9,
     "metadata": {},
     "output_type": "execute_result"
    }
   ],
   "source": [
    "import gc\n",
    "\n",
    "# オブジェクトの削除\n",
    "del df1\n",
    "# メモリの解放\n",
    "gc.collect()"
   ]
  },
  {
   "cell_type": "code",
   "execution_count": 10,
   "metadata": {},
   "outputs": [
    {
     "data": {
      "text/html": [
       "<div>\n",
       "<style scoped>\n",
       "    .dataframe tbody tr th:only-of-type {\n",
       "        vertical-align: middle;\n",
       "    }\n",
       "\n",
       "    .dataframe tbody tr th {\n",
       "        vertical-align: top;\n",
       "    }\n",
       "\n",
       "    .dataframe thead th {\n",
       "        text-align: right;\n",
       "    }\n",
       "</style>\n",
       "<table border=\"1\" class=\"dataframe\">\n",
       "  <thead>\n",
       "    <tr style=\"text-align: right;\">\n",
       "      <th></th>\n",
       "      <th>x1</th>\n",
       "      <th>y1</th>\n",
       "    </tr>\n",
       "  </thead>\n",
       "  <tbody>\n",
       "    <tr>\n",
       "      <th>0</th>\n",
       "      <td>63</td>\n",
       "      <td>63</td>\n",
       "    </tr>\n",
       "    <tr>\n",
       "      <th>1</th>\n",
       "      <td>56</td>\n",
       "      <td>66</td>\n",
       "    </tr>\n",
       "    <tr>\n",
       "      <th>2</th>\n",
       "      <td>51</td>\n",
       "      <td>61</td>\n",
       "    </tr>\n",
       "    <tr>\n",
       "      <th>3</th>\n",
       "      <td>50</td>\n",
       "      <td>60</td>\n",
       "    </tr>\n",
       "    <tr>\n",
       "      <th>4</th>\n",
       "      <td>42</td>\n",
       "      <td>52</td>\n",
       "    </tr>\n",
       "  </tbody>\n",
       "</table>\n",
       "</div>"
      ],
      "text/plain": [
       "   x1  y1\n",
       "0  63  63\n",
       "1  56  66\n",
       "2  51  61\n",
       "3  50  60\n",
       "4  42  52"
      ]
     },
     "execution_count": 10,
     "metadata": {},
     "output_type": "execute_result"
    }
   ],
   "source": [
    "data01 = pd.read_csv(\"../causality-main/data01.csv\")\n",
    "data01.head()"
   ]
  },
  {
   "cell_type": "code",
   "execution_count": 11,
   "metadata": {},
   "outputs": [
    {
     "data": {
      "text/html": [
       "<div>\n",
       "<style scoped>\n",
       "    .dataframe tbody tr th:only-of-type {\n",
       "        vertical-align: middle;\n",
       "    }\n",
       "\n",
       "    .dataframe tbody tr th {\n",
       "        vertical-align: top;\n",
       "    }\n",
       "\n",
       "    .dataframe thead th {\n",
       "        text-align: right;\n",
       "    }\n",
       "</style>\n",
       "<table border=\"1\" class=\"dataframe\">\n",
       "  <thead>\n",
       "    <tr style=\"text-align: right;\">\n",
       "      <th></th>\n",
       "      <th>x1</th>\n",
       "      <th>y1</th>\n",
       "    </tr>\n",
       "  </thead>\n",
       "  <tbody>\n",
       "    <tr>\n",
       "      <th>count</th>\n",
       "      <td>5.000000</td>\n",
       "      <td>5.00000</td>\n",
       "    </tr>\n",
       "    <tr>\n",
       "      <th>mean</th>\n",
       "      <td>52.400000</td>\n",
       "      <td>60.40000</td>\n",
       "    </tr>\n",
       "    <tr>\n",
       "      <th>std</th>\n",
       "      <td>7.765307</td>\n",
       "      <td>5.22494</td>\n",
       "    </tr>\n",
       "    <tr>\n",
       "      <th>min</th>\n",
       "      <td>42.000000</td>\n",
       "      <td>52.00000</td>\n",
       "    </tr>\n",
       "    <tr>\n",
       "      <th>25%</th>\n",
       "      <td>50.000000</td>\n",
       "      <td>60.00000</td>\n",
       "    </tr>\n",
       "    <tr>\n",
       "      <th>50%</th>\n",
       "      <td>51.000000</td>\n",
       "      <td>61.00000</td>\n",
       "    </tr>\n",
       "    <tr>\n",
       "      <th>75%</th>\n",
       "      <td>56.000000</td>\n",
       "      <td>63.00000</td>\n",
       "    </tr>\n",
       "    <tr>\n",
       "      <th>max</th>\n",
       "      <td>63.000000</td>\n",
       "      <td>66.00000</td>\n",
       "    </tr>\n",
       "  </tbody>\n",
       "</table>\n",
       "</div>"
      ],
      "text/plain": [
       "              x1        y1\n",
       "count   5.000000   5.00000\n",
       "mean   52.400000  60.40000\n",
       "std     7.765307   5.22494\n",
       "min    42.000000  52.00000\n",
       "25%    50.000000  60.00000\n",
       "50%    51.000000  61.00000\n",
       "75%    56.000000  63.00000\n",
       "max    63.000000  66.00000"
      ]
     },
     "execution_count": 11,
     "metadata": {},
     "output_type": "execute_result"
    }
   ],
   "source": [
    "data01.describe()"
   ]
  },
  {
   "cell_type": "markdown",
   "metadata": {},
   "source": [
    "# 1.9.4"
   ]
  },
  {
   "cell_type": "code",
   "execution_count": 12,
   "metadata": {},
   "outputs": [
    {
     "data": {
      "text/plain": [
       "x1    51\n",
       "y1    61\n",
       "Name: 2, dtype: int64"
      ]
     },
     "execution_count": 12,
     "metadata": {},
     "output_type": "execute_result"
    }
   ],
   "source": [
    "\"\"\"\n",
    "data01[2, :]\n",
    "これはエラーになる\n",
    "\"\"\"\n",
    "data01.iloc[2, :]"
   ]
  },
  {
   "cell_type": "code",
   "execution_count": 13,
   "metadata": {},
   "outputs": [
    {
     "data": {
      "text/plain": [
       "0    63\n",
       "1    66\n",
       "2    61\n",
       "3    60\n",
       "4    52\n",
       "Name: y1, dtype: int64"
      ]
     },
     "execution_count": 13,
     "metadata": {},
     "output_type": "execute_result"
    }
   ],
   "source": [
    "data01.iloc[:, 1]"
   ]
  },
  {
   "cell_type": "code",
   "execution_count": 14,
   "metadata": {},
   "outputs": [
    {
     "data": {
      "text/plain": [
       "0    63\n",
       "1    66\n",
       "2    61\n",
       "3    60\n",
       "4    52\n",
       "Name: y1, dtype: int64"
      ]
     },
     "execution_count": 14,
     "metadata": {},
     "output_type": "execute_result"
    }
   ],
   "source": [
    "data01.iloc[0:len(data01), 1]"
   ]
  },
  {
   "cell_type": "code",
   "execution_count": 15,
   "metadata": {},
   "outputs": [
    {
     "data": {
      "text/plain": [
       "61"
      ]
     },
     "execution_count": 15,
     "metadata": {},
     "output_type": "execute_result"
    }
   ],
   "source": [
    "data01.iloc[2, 1]"
   ]
  },
  {
   "cell_type": "code",
   "execution_count": 16,
   "metadata": {},
   "outputs": [
    {
     "data": {
      "text/plain": [
       "52.4"
      ]
     },
     "execution_count": 16,
     "metadata": {},
     "output_type": "execute_result"
    }
   ],
   "source": [
    "# numpy: mean()\n",
    "np.mean(data01.x1)\n",
    "# pandas: mean()\n",
    "data01['x1'].mean()"
   ]
  },
  {
   "cell_type": "code",
   "execution_count": 17,
   "metadata": {},
   "outputs": [
    {
     "data": {
      "text/plain": [
       "6.945502141674135"
      ]
     },
     "execution_count": 17,
     "metadata": {},
     "output_type": "execute_result"
    }
   ],
   "source": [
    "# numpy: defaultだとddof=0になっている\n",
    "np.std(data01['x1'])"
   ]
  },
  {
   "cell_type": "code",
   "execution_count": 18,
   "metadata": {},
   "outputs": [
    {
     "data": {
      "text/plain": [
       "7.76530746332687"
      ]
     },
     "execution_count": 18,
     "metadata": {},
     "output_type": "execute_result"
    }
   ],
   "source": [
    "# pandas: default ddof=1\n",
    "data01.x1.std()"
   ]
  },
  {
   "cell_type": "code",
   "execution_count": 19,
   "metadata": {},
   "outputs": [
    {
     "data": {
      "text/plain": [
       "5.224940191045253"
      ]
     },
     "execution_count": 19,
     "metadata": {},
     "output_type": "execute_result"
    }
   ],
   "source": [
    "# numpy: default ddof=0\n",
    "np.std(data01.y1, ddof=1)\n",
    "# pandasはdefaultがddof=1\n",
    "data01.y1.std()"
   ]
  },
  {
   "cell_type": "code",
   "execution_count": 20,
   "metadata": {},
   "outputs": [
    {
     "data": {
      "text/plain": [
       "array([[52.4       ,  7.76530746],\n",
       "       [60.4       ,  5.22494019]])"
      ]
     },
     "execution_count": 20,
     "metadata": {},
     "output_type": "execute_result"
    }
   ],
   "source": [
    "output = np.empty([2, 2])\n",
    "for e in range(2):\n",
    "    output[e, 0] = np.mean(data01.iloc[:,e])\n",
    "    output[e, 1] = data01.iloc[:, e].std() #OR np.std(ddof=1)\n",
    "output"
   ]
  },
  {
   "cell_type": "code",
   "execution_count": 21,
   "metadata": {},
   "outputs": [
    {
     "data": {
      "text/html": [
       "<div>\n",
       "<style scoped>\n",
       "    .dataframe tbody tr th:only-of-type {\n",
       "        vertical-align: middle;\n",
       "    }\n",
       "\n",
       "    .dataframe tbody tr th {\n",
       "        vertical-align: top;\n",
       "    }\n",
       "\n",
       "    .dataframe thead th {\n",
       "        text-align: right;\n",
       "    }\n",
       "</style>\n",
       "<table border=\"1\" class=\"dataframe\">\n",
       "  <thead>\n",
       "    <tr style=\"text-align: right;\">\n",
       "      <th></th>\n",
       "      <th>0</th>\n",
       "      <th>1</th>\n",
       "    </tr>\n",
       "  </thead>\n",
       "  <tbody>\n",
       "    <tr>\n",
       "      <th>x1</th>\n",
       "      <td>52.4</td>\n",
       "      <td>7.765307</td>\n",
       "    </tr>\n",
       "    <tr>\n",
       "      <th>y1</th>\n",
       "      <td>60.4</td>\n",
       "      <td>5.224940</td>\n",
       "    </tr>\n",
       "  </tbody>\n",
       "</table>\n",
       "</div>"
      ],
      "text/plain": [
       "       0         1\n",
       "x1  52.4  7.765307\n",
       "y1  60.4  5.224940"
      ]
     },
     "metadata": {},
     "output_type": "display_data"
    }
   ],
   "source": [
    "display(pd.concat([data01.mean(), data01.std()], axis=1))"
   ]
  },
  {
   "cell_type": "code",
   "execution_count": null,
   "metadata": {},
   "outputs": [],
   "source": []
  }
 ],
 "metadata": {
  "kernelspec": {
   "display_name": "Python 3 (ipykernel)",
   "language": "python",
   "name": "python3"
  },
  "language_info": {
   "codemirror_mode": {
    "name": "ipython",
    "version": 3
   },
   "file_extension": ".py",
   "mimetype": "text/x-python",
   "name": "python",
   "nbconvert_exporter": "python",
   "pygments_lexer": "ipython3",
   "version": "3.10.8"
  },
  "toc": {
   "base_numbering": 1,
   "nav_menu": {},
   "number_sections": true,
   "sideBar": true,
   "skip_h1_title": false,
   "title_cell": "Table of Contents",
   "title_sidebar": "Contents",
   "toc_cell": false,
   "toc_position": {},
   "toc_section_display": true,
   "toc_window_display": true
  },
  "varInspector": {
   "cols": {
    "lenName": 16,
    "lenType": 16,
    "lenVar": 40
   },
   "kernels_config": {
    "python": {
     "delete_cmd_postfix": "",
     "delete_cmd_prefix": "del ",
     "library": "var_list.py",
     "varRefreshCmd": "print(var_dic_list())"
    },
    "r": {
     "delete_cmd_postfix": ") ",
     "delete_cmd_prefix": "rm(",
     "library": "var_list.r",
     "varRefreshCmd": "cat(var_dic_list()) "
    }
   },
   "types_to_exclude": [
    "module",
    "function",
    "builtin_function_or_method",
    "instance",
    "_Feature"
   ],
   "window_display": false
  },
  "vscode": {
   "interpreter": {
    "hash": "898d3c6109607cac4667983f45c21ef7997d125c9b4da8292caa90a38e599c34"
   }
  }
 },
 "nbformat": 4,
 "nbformat_minor": 2
}
