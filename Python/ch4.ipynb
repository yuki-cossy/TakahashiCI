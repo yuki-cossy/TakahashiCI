{
 "cells": [
  {
   "attachments": {},
   "cell_type": "markdown",
   "metadata": {},
   "source": [
    "# housekeeping"
   ]
  },
  {
   "cell_type": "code",
   "execution_count": 79,
   "metadata": {},
   "outputs": [
    {
     "name": "stderr",
     "output_type": "stream",
     "text": [
      "/Users/domolm/.pyenv/versions/3.10.8/lib/python3.10/site-packages/outdated/utils.py:14: OutdatedPackageWarning: The package pingouin is out of date. Your version is 0.5.2, the latest is 0.5.3.\n",
      "Set the environment variable OUTDATED_IGNORE=1 to disable these warnings.\n",
      "  return warn(\n"
     ]
    }
   ],
   "source": [
    "import itertools\n",
    "import polars as pl\n",
    "import numpy as np\n",
    "from scipy import stats\n",
    "import pingouin\n",
    "import matplotlib.pyplot as plt\n",
    "plt.rcParams['font.family'] = \"YuGothic\""
   ]
  },
  {
   "attachments": {},
   "cell_type": "markdown",
   "metadata": {},
   "source": [
    "# 表 4.2"
   ]
  },
  {
   "cell_type": "code",
   "execution_count": 3,
   "metadata": {},
   "outputs": [],
   "source": [
    "N1 = 4\n",
    "n1 = 2\n",
    "x1 = [165, 166, 171, 180]\n",
    "mu = np.mean(x1)\n",
    "hensa = x1 - mu\n",
    "hensa2 = hensa**2\n",
    "sigma2 = sum(hensa2) / N1\n",
    "sigma = np.sqrt(sigma2)"
   ]
  },
  {
   "cell_type": "code",
   "execution_count": 4,
   "metadata": {},
   "outputs": [
    {
     "data": {
      "text/plain": [
       "(170.5, 5.937171043518958)"
      ]
     },
     "execution_count": 4,
     "metadata": {},
     "output_type": "execute_result"
    }
   ],
   "source": [
    "mu, sigma"
   ]
  },
  {
   "attachments": {},
   "cell_type": "markdown",
   "metadata": {},
   "source": [
    "# 表 4.4"
   ]
  },
  {
   "cell_type": "code",
   "execution_count": 5,
   "metadata": {},
   "outputs": [
    {
     "data": {
      "text/plain": [
       "170.5"
      ]
     },
     "execution_count": 5,
     "metadata": {},
     "output_type": "execute_result"
    }
   ],
   "source": [
    "xs = itertools.combinations(x1, n1)\n",
    "xs\n",
    "xbars = map(np.mean, xs)\n",
    "np.mean(list(xbars))"
   ]
  },
  {
   "cell_type": "code",
   "execution_count": 6,
   "metadata": {},
   "outputs": [
    {
     "data": {
      "text/plain": [
       "([(165, 166), (165, 171), (165, 180), (166, 171), (166, 180), (171, 180)],\n",
       " [165.5, 168.0, 172.5, 168.5, 173.0, 175.5],\n",
       " 170.5,\n",
       " 3.427827300200522)"
      ]
     },
     "execution_count": 6,
     "metadata": {},
     "output_type": "execute_result"
    }
   ],
   "source": [
    "xs = list(itertools.combinations(x1, n1))\n",
    "xbars = list(map(np.mean, xs))\n",
    "np.mean(xbars)\n",
    "hensab = xbars - mu\n",
    "hensa2b = hensab**2\n",
    "sigma2b = sum(hensa2b) / 6\n",
    "sigmab = np.sqrt(sigma2b)\n",
    "\n",
    "xs, xbars, np.mean(xbars) ,sigmab\n"
   ]
  },
  {
   "attachments": {},
   "cell_type": "markdown",
   "metadata": {},
   "source": [
    "# 表 4.5"
   ]
  },
  {
   "cell_type": "code",
   "execution_count": 7,
   "metadata": {},
   "outputs": [
    {
     "data": {
      "text/plain": [
       "3.427827300200522"
      ]
     },
     "execution_count": 7,
     "metadata": {},
     "output_type": "execute_result"
    }
   ],
   "source": [
    "se0 = sigma / np.sqrt(n1)\n",
    "correct = np.sqrt((N1-n1) / (N1-1))\n",
    "se1 = se0 * correct\n",
    "\n",
    "se1"
   ]
  },
  {
   "attachments": {},
   "cell_type": "markdown",
   "metadata": {},
   "source": [
    "# 4.1.5"
   ]
  },
  {
   "cell_type": "code",
   "execution_count": 8,
   "metadata": {},
   "outputs": [
    {
     "data": {
      "text/plain": [
       "1.9904502099893602"
      ]
     },
     "execution_count": 8,
     "metadata": {},
     "output_type": "execute_result"
    }
   ],
   "source": [
    "stats.t.ppf(0.975, 80-1)"
   ]
  },
  {
   "attachments": {},
   "cell_type": "markdown",
   "metadata": {},
   "source": [
    "# 4.2.2"
   ]
  },
  {
   "cell_type": "code",
   "execution_count": 9,
   "metadata": {},
   "outputs": [
    {
     "data": {
      "text/plain": [
       "2.009575234489209"
      ]
     },
     "execution_count": 9,
     "metadata": {},
     "output_type": "execute_result"
    }
   ],
   "source": [
    "stats.t.ppf(0.975, 49)"
   ]
  },
  {
   "cell_type": "code",
   "execution_count": 10,
   "metadata": {},
   "outputs": [
    {
     "data": {
      "text/plain": [
       "(249.9732726990254, 250.0267273009746)"
      ]
     },
     "execution_count": 10,
     "metadata": {},
     "output_type": "execute_result"
    }
   ],
   "source": [
    "# ちなみに confint は例えば以下のように書ける\n",
    "stats.t.interval(alpha=0.025, df=49, loc=250, scale=6/np.sqrt(50))\n",
    "# なぜか下のセルと値が異なるが気にしないことにする"
   ]
  },
  {
   "cell_type": "code",
   "execution_count": 63,
   "metadata": {},
   "outputs": [
    {
     "data": {
      "text/plain": [
       "(248.29481886926575, 251.70518113073425)"
      ]
     },
     "execution_count": 63,
     "metadata": {},
     "output_type": "execute_result"
    }
   ],
   "source": [
    "250 - stats.t.ppf(0.975, 49)*6/np.sqrt(50), \\\n",
    "250 + stats.t.ppf(0.975, 49)*6/np.sqrt(50)"
   ]
  },
  {
   "attachments": {},
   "cell_type": "markdown",
   "metadata": {},
   "source": [
    "# 図 4.2"
   ]
  },
  {
   "cell_type": "code",
   "execution_count": 60,
   "metadata": {},
   "outputs": [
    {
     "data": {
      "text/plain": [
       "Text(0, 0.5, '試行回数')"
      ]
     },
     "execution_count": 60,
     "metadata": {},
     "output_type": "execute_result"
    },
    {
     "data": {
      "image/png": "[encoded data removed]",
      "text/plain": [
       "<Figure size 640x480 with 1 Axes>"
      ]
     },
     "metadata": {},
     "output_type": "display_data"
    }
   ],
   "source": [
    "def get_confint(x, level=0.90):\n",
    "    n = len(x)\n",
    "    mean_x = np.mean(x)\n",
    "    SE = np.std(x, ddof=1) / np.sqrt(n)\n",
    "    Q = stats.t.ppf(level, n-1)\n",
    "    lb = mean_x - Q*SE\n",
    "    ub = mean_x + Q*SE\n",
    "    estimates = [mean_x, lb, ub]\n",
    "    return estimates\n",
    "\n",
    "n_sims = 20\n",
    "res_sim = []\n",
    "for i in range(n_sims):\n",
    "    smpl = np.random.choice(x1, size=10**4, replace=True)\n",
    "    confint = get_confint(smpl, level=0.90)\n",
    "    res_sim.append(confint)\n",
    "res_sim\n",
    "\n",
    "df_res_sim = pl.DataFrame(res_sim).transpose()\n",
    "fig, ax = plt.subplots()\n",
    "for idx, row in enumerate(df_res_sim.iter_rows()):\n",
    "    ax.scatter(x=[row[1], row[2]], y=[idx, idx], \n",
    "               c='white', edgecolors='black')\n",
    "    ax.plot([row[1], row[2]], [idx, idx], \n",
    "            ls='--', c='black')\n",
    "ax.vlines(mu, -1, 21, colors='black')\n",
    "plt.yticks(np.arange(0, 21, 5))\n",
    "plt.xlim([170.0, 171.0])\n",
    "plt.ylim([-1, 21])\n",
    "plt.xlabel('身長')\n",
    "plt.ylabel('試行回数')\n"
   ]
  },
  {
   "attachments": {},
   "cell_type": "markdown",
   "metadata": {},
   "source": [
    "# 4.2.3"
   ]
  },
  {
   "cell_type": "code",
   "execution_count": 65,
   "metadata": {},
   "outputs": [
    {
     "name": "stdout",
     "output_type": "stream",
     "text": [
      "shape: (20, 7)\n",
      "┌─────┬─────┬─────┬──────┬──────┬─────┬─────┐\n",
      "│ x1  ┆ y3  ┆ t1  ┆ y0   ┆ y1   ┆ y0t ┆ y1t │\n",
      "│ --- ┆ --- ┆ --- ┆ ---  ┆ ---  ┆ --- ┆ --- │\n",
      "│ i64 ┆ i64 ┆ i64 ┆ i64  ┆ i64  ┆ i64 ┆ i64 │\n",
      "╞═════╪═════╪═════╪══════╪══════╪═════╪═════╡\n",
      "│ 74  ┆ 76  ┆ 1   ┆ null ┆ 76   ┆ 68  ┆ 76  │\n",
      "│ 82  ┆ 75  ┆ 0   ┆ 75   ┆ null ┆ 75  ┆ 84  │\n",
      "│ 72  ┆ 75  ┆ 1   ┆ 65   ┆ null ┆ 65  ┆ 75  │\n",
      "│ 96  ┆ 84  ┆ 0   ┆ 84   ┆ null ┆ 84  ┆ 97  │\n",
      "│ ... ┆ ... ┆ ... ┆ ...  ┆ ...  ┆ ... ┆ ... │\n",
      "│ 80  ┆ 72  ┆ 0   ┆ null ┆ 82   ┆ 72  ┆ 82  │\n",
      "│ 89  ┆ 80  ┆ 0   ┆ null ┆ 89   ┆ 80  ┆ 89  │\n",
      "│ 88  ┆ 80  ┆ 0   ┆ null ┆ 90   ┆ 80  ┆ 90  │\n",
      "│ 86  ┆ 78  ┆ 0   ┆ null ┆ 87   ┆ 78  ┆ 87  │\n",
      "└─────┴─────┴─────┴──────┴──────┴─────┴─────┘\n"
     ]
    }
   ],
   "source": [
    "data04 = pl.read_csv('../causality-main/data04.csv', parse_dates=True)\n",
    "print(data04)"
   ]
  },
  {
   "cell_type": "code",
   "execution_count": 66,
   "metadata": {},
   "outputs": [
    {
     "data": {
      "text/html": [
       "<div>\n",
       "<style scoped>\n",
       "    .dataframe tbody tr th:only-of-type {\n",
       "        vertical-align: middle;\n",
       "    }\n",
       "\n",
       "    .dataframe tbody tr th {\n",
       "        vertical-align: top;\n",
       "    }\n",
       "\n",
       "    .dataframe thead th {\n",
       "        text-align: right;\n",
       "    }\n",
       "\n",
       "    .dataframe td {\n",
       "        white-space: pre;\n",
       "    }\n",
       "\n",
       "    .dataframe td {\n",
       "        padding-top: 0;\n",
       "    }\n",
       "\n",
       "    .dataframe td {\n",
       "        padding-bottom: 0;\n",
       "    }\n",
       "</style>\n",
       "<table border=\"1\" class=\"dataframe\">\n",
       "<small>shape: (7, 8)</small>\n",
       "<thead>\n",
       "<tr>\n",
       "<th>\n",
       "describe\n",
       "</th>\n",
       "<th>\n",
       "x1\n",
       "</th>\n",
       "<th>\n",
       "y3\n",
       "</th>\n",
       "<th>\n",
       "t1\n",
       "</th>\n",
       "<th>\n",
       "y0\n",
       "</th>\n",
       "<th>\n",
       "y1\n",
       "</th>\n",
       "<th>\n",
       "y0t\n",
       "</th>\n",
       "<th>\n",
       "y1t\n",
       "</th>\n",
       "</tr>\n",
       "<tr>\n",
       "<td>\n",
       "str\n",
       "</td>\n",
       "<td>\n",
       "f64\n",
       "</td>\n",
       "<td>\n",
       "f64\n",
       "</td>\n",
       "<td>\n",
       "f64\n",
       "</td>\n",
       "<td>\n",
       "f64\n",
       "</td>\n",
       "<td>\n",
       "f64\n",
       "</td>\n",
       "<td>\n",
       "f64\n",
       "</td>\n",
       "<td>\n",
       "f64\n",
       "</td>\n",
       "</tr>\n",
       "</thead>\n",
       "<tbody>\n",
       "<tr>\n",
       "<td>\n",
       "&quot;count&quot;\n",
       "</td>\n",
       "<td>\n",
       "20.0\n",
       "</td>\n",
       "<td>\n",
       "20.0\n",
       "</td>\n",
       "<td>\n",
       "20.0\n",
       "</td>\n",
       "<td>\n",
       "20.0\n",
       "</td>\n",
       "<td>\n",
       "20.0\n",
       "</td>\n",
       "<td>\n",
       "20.0\n",
       "</td>\n",
       "<td>\n",
       "20.0\n",
       "</td>\n",
       "</tr>\n",
       "<tr>\n",
       "<td>\n",
       "&quot;null_count&quot;\n",
       "</td>\n",
       "<td>\n",
       "0.0\n",
       "</td>\n",
       "<td>\n",
       "0.0\n",
       "</td>\n",
       "<td>\n",
       "0.0\n",
       "</td>\n",
       "<td>\n",
       "12.0\n",
       "</td>\n",
       "<td>\n",
       "8.0\n",
       "</td>\n",
       "<td>\n",
       "0.0\n",
       "</td>\n",
       "<td>\n",
       "0.0\n",
       "</td>\n",
       "</tr>\n",
       "<tr>\n",
       "<td>\n",
       "&quot;mean&quot;\n",
       "</td>\n",
       "<td>\n",
       "81.95\n",
       "</td>\n",
       "<td>\n",
       "76.6\n",
       "</td>\n",
       "<td>\n",
       "0.3\n",
       "</td>\n",
       "<td>\n",
       "73.125\n",
       "</td>\n",
       "<td>\n",
       "84.083333\n",
       "</td>\n",
       "<td>\n",
       "73.8\n",
       "</td>\n",
       "<td>\n",
       "83.85\n",
       "</td>\n",
       "</tr>\n",
       "<tr>\n",
       "<td>\n",
       "&quot;std&quot;\n",
       "</td>\n",
       "<td>\n",
       "8.999854\n",
       "</td>\n",
       "<td>\n",
       "5.245549\n",
       "</td>\n",
       "<td>\n",
       "0.470162\n",
       "</td>\n",
       "<td>\n",
       "6.812541\n",
       "</td>\n",
       "<td>\n",
       "9.129954\n",
       "</td>\n",
       "<td>\n",
       "7.898034\n",
       "</td>\n",
       "<td>\n",
       "8.430989\n",
       "</td>\n",
       "</tr>\n",
       "<tr>\n",
       "<td>\n",
       "&quot;min&quot;\n",
       "</td>\n",
       "<td>\n",
       "58.0\n",
       "</td>\n",
       "<td>\n",
       "61.0\n",
       "</td>\n",
       "<td>\n",
       "0.0\n",
       "</td>\n",
       "<td>\n",
       "65.0\n",
       "</td>\n",
       "<td>\n",
       "61.0\n",
       "</td>\n",
       "<td>\n",
       "52.0\n",
       "</td>\n",
       "<td>\n",
       "61.0\n",
       "</td>\n",
       "</tr>\n",
       "<tr>\n",
       "<td>\n",
       "&quot;max&quot;\n",
       "</td>\n",
       "<td>\n",
       "96.0\n",
       "</td>\n",
       "<td>\n",
       "87.0\n",
       "</td>\n",
       "<td>\n",
       "1.0\n",
       "</td>\n",
       "<td>\n",
       "84.0\n",
       "</td>\n",
       "<td>\n",
       "96.0\n",
       "</td>\n",
       "<td>\n",
       "87.0\n",
       "</td>\n",
       "<td>\n",
       "97.0\n",
       "</td>\n",
       "</tr>\n",
       "<tr>\n",
       "<td>\n",
       "&quot;median&quot;\n",
       "</td>\n",
       "<td>\n",
       "83.5\n",
       "</td>\n",
       "<td>\n",
       "76.5\n",
       "</td>\n",
       "<td>\n",
       "0.0\n",
       "</td>\n",
       "<td>\n",
       "75.0\n",
       "</td>\n",
       "<td>\n",
       "85.5\n",
       "</td>\n",
       "<td>\n",
       "75.0\n",
       "</td>\n",
       "<td>\n",
       "84.5\n",
       "</td>\n",
       "</tr>\n",
       "</tbody>\n",
       "</table>\n",
       "</div>"
      ],
      "text/plain": [
       "shape: (7, 8)\n",
       "┌────────────┬──────────┬──────────┬──────────┬──────────┬───────────┬──────────┬──────────┐\n",
       "│ describe   ┆ x1       ┆ y3       ┆ t1       ┆ y0       ┆ y1        ┆ y0t      ┆ y1t      │\n",
       "│ ---        ┆ ---      ┆ ---      ┆ ---      ┆ ---      ┆ ---       ┆ ---      ┆ ---      │\n",
       "│ str        ┆ f64      ┆ f64      ┆ f64      ┆ f64      ┆ f64       ┆ f64      ┆ f64      │\n",
       "╞════════════╪══════════╪══════════╪══════════╪══════════╪═══════════╪══════════╪══════════╡\n",
       "│ count      ┆ 20.0     ┆ 20.0     ┆ 20.0     ┆ 20.0     ┆ 20.0      ┆ 20.0     ┆ 20.0     │\n",
       "│ null_count ┆ 0.0      ┆ 0.0      ┆ 0.0      ┆ 12.0     ┆ 8.0       ┆ 0.0      ┆ 0.0      │\n",
       "│ mean       ┆ 81.95    ┆ 76.6     ┆ 0.3      ┆ 73.125   ┆ 84.083333 ┆ 73.8     ┆ 83.85    │\n",
       "│ std        ┆ 8.999854 ┆ 5.245549 ┆ 0.470162 ┆ 6.812541 ┆ 9.129954  ┆ 7.898034 ┆ 8.430989 │\n",
       "│ min        ┆ 58.0     ┆ 61.0     ┆ 0.0      ┆ 65.0     ┆ 61.0      ┆ 52.0     ┆ 61.0     │\n",
       "│ max        ┆ 96.0     ┆ 87.0     ┆ 1.0      ┆ 84.0     ┆ 96.0      ┆ 87.0     ┆ 97.0     │\n",
       "│ median     ┆ 83.5     ┆ 76.5     ┆ 0.0      ┆ 75.0     ┆ 85.5      ┆ 75.0     ┆ 84.5     │\n",
       "└────────────┴──────────┴──────────┴──────────┴──────────┴───────────┴──────────┴──────────┘"
      ]
     },
     "execution_count": 66,
     "metadata": {},
     "output_type": "execute_result"
    }
   ],
   "source": [
    "data04.describe()"
   ]
  },
  {
   "cell_type": "code",
   "execution_count": 68,
   "metadata": {},
   "outputs": [
    {
     "data": {
      "text/plain": [
       "'Rows: 20\\nColumns: 7\\n$ x1  <i64> 74, 82, 72, 96, 83, 72, 85, 87, 86, 77\\n$ y3  <i64> 76, 75, 75, 84, 75, 74, 76, 77, 77, 80\\n$ t1  <i64> 1, 0, 1, 0, 0, 1, 0, 0, 0, 1\\n$ y0  <i64> None, 75, 65, 84, None, 65, None, 77, 77, None\\n$ y1  <i64> 76, None, None, None, 84, None, 87, None, None, 80\\n$ y0t <i64> 68, 75, 65, 84, 75, 65, 76, 77, 77, 70\\n$ y1t <i64> 76, 84, 75, 97, 84, 74, 87, 89, 87, 80\\n'"
      ]
     },
     "execution_count": 68,
     "metadata": {},
     "output_type": "execute_result"
    }
   ],
   "source": [
    "data04.glimpse()"
   ]
  },
  {
   "attachments": {},
   "cell_type": "markdown",
   "metadata": {},
   "source": [
    "# 表 4.8"
   ]
  },
  {
   "cell_type": "code",
   "execution_count": 78,
   "metadata": {},
   "outputs": [
    {
     "data": {
      "text/plain": [
       "9.43367450849425"
      ]
     },
     "execution_count": 78,
     "metadata": {},
     "output_type": "execute_result"
    }
   ],
   "source": [
    "n1 = len(data04)\n",
    "diff = data04['y1t'] - data04['y0t']\n",
    "m1 = pl.mean(diff)\n",
    "s1 = pl.std(diff, ddof=1)\n",
    "t_alpha = stats.t.ppf(0.975, n1-1)\n",
    "m1 + t_alpha * s1/np.sqrt(n1)\n",
    "m1 - t_alpha * s1/np.sqrt(n1)"
   ]
  },
  {
   "cell_type": "code",
   "execution_count": 83,
   "metadata": {},
   "outputs": [
    {
     "data": {
      "text/html": [
       "<div>\n",
       "<style scoped>\n",
       "    .dataframe tbody tr th:only-of-type {\n",
       "        vertical-align: middle;\n",
       "    }\n",
       "\n",
       "    .dataframe tbody tr th {\n",
       "        vertical-align: top;\n",
       "    }\n",
       "\n",
       "    .dataframe thead th {\n",
       "        text-align: right;\n",
       "    }\n",
       "</style>\n",
       "<table border=\"1\" class=\"dataframe\">\n",
       "  <thead>\n",
       "    <tr style=\"text-align: right;\">\n",
       "      <th></th>\n",
       "      <th>T</th>\n",
       "      <th>dof</th>\n",
       "      <th>alternative</th>\n",
       "      <th>p-val</th>\n",
       "      <th>CI95%</th>\n",
       "      <th>cohen-d</th>\n",
       "      <th>BF10</th>\n",
       "      <th>power</th>\n",
       "    </tr>\n",
       "  </thead>\n",
       "  <tbody>\n",
       "    <tr>\n",
       "      <th>T-test</th>\n",
       "      <td>34.129518</td>\n",
       "      <td>19</td>\n",
       "      <td>two-sided</td>\n",
       "      <td>1.629145e-18</td>\n",
       "      <td>[9.43, 10.67]</td>\n",
       "      <td>7.631592</td>\n",
       "      <td>2.001e+15</td>\n",
       "      <td>1.0</td>\n",
       "    </tr>\n",
       "  </tbody>\n",
       "</table>\n",
       "</div>"
      ],
      "text/plain": [
       "                T  dof alternative         p-val          CI95%   cohen-d  \\\n",
       "T-test  34.129518   19   two-sided  1.629145e-18  [9.43, 10.67]  7.631592   \n",
       "\n",
       "             BF10  power  \n",
       "T-test  2.001e+15    1.0  "
      ]
     },
     "execution_count": 83,
     "metadata": {},
     "output_type": "execute_result"
    }
   ],
   "source": [
    "pingouin.ttest(diff, 0)"
   ]
  },
  {
   "attachments": {},
   "cell_type": "markdown",
   "metadata": {},
   "source": [
    "# 表 4.10"
   ]
  },
  {
   "cell_type": "code",
   "execution_count": 130,
   "metadata": {},
   "outputs": [
    {
     "data": {
      "text/plain": [
       "3.4472968190287663"
      ]
     },
     "execution_count": 130,
     "metadata": {},
     "output_type": "execute_result"
    }
   ],
   "source": [
    "# R との仕様の違いのせいか、欠測値が null として保存されていることに注意\n",
    "y0obs = data04.select(\n",
    "    pl.col('y0')\n",
    "    .drop_nulls()\n",
    ").to_numpy()\n",
    "y1obs = data04.select(\n",
    "    pl.col('y1')\n",
    "    .drop_nulls()\n",
    ").to_numpy()\n",
    "n0 = len(y0obs)\n",
    "n1 = len(y1obs)\n",
    "s0 = y0obs.std(ddof=1)\n",
    "s1 = y1obs.std(ddof=1)\n",
    "num = (s1**2/n1 + s0**2/n0)**2\n",
    "denom = ((s1**2/n1)**2)/(n1-1) + ((s0**2/n0)**2)/(n0-1)\n",
    "df1 = num/denom\n",
    "xbar = np.mean(y1obs) - np.mean(y0obs)\n",
    "se1 = np.sqrt((s0**2/n0) + (s1**2/n1))\n",
    "t_alpha = stats.t.ppf(0.975, df1)\n",
    "xbar + t_alpha*se1\n",
    "xbar - t_alpha*se1"
   ]
  },
  {
   "cell_type": "code",
   "execution_count": 136,
   "metadata": {},
   "outputs": [
    {
     "data": {
      "text/html": [
       "<div>\n",
       "<style scoped>\n",
       "    .dataframe tbody tr th:only-of-type {\n",
       "        vertical-align: middle;\n",
       "    }\n",
       "\n",
       "    .dataframe tbody tr th {\n",
       "        vertical-align: top;\n",
       "    }\n",
       "\n",
       "    .dataframe thead th {\n",
       "        text-align: right;\n",
       "    }\n",
       "</style>\n",
       "<table border=\"1\" class=\"dataframe\">\n",
       "  <thead>\n",
       "    <tr style=\"text-align: right;\">\n",
       "      <th></th>\n",
       "      <th>T</th>\n",
       "      <th>dof</th>\n",
       "      <th>alternative</th>\n",
       "      <th>p-val</th>\n",
       "      <th>CI95%</th>\n",
       "      <th>cohen-d</th>\n",
       "      <th>BF10</th>\n",
       "      <th>power</th>\n",
       "    </tr>\n",
       "  </thead>\n",
       "  <tbody>\n",
       "    <tr>\n",
       "      <th>T-test</th>\n",
       "      <td>3.069227</td>\n",
       "      <td>17.674073</td>\n",
       "      <td>two-sided</td>\n",
       "      <td>0.006714</td>\n",
       "      <td>[3.45, 18.47]</td>\n",
       "      <td>1.319339</td>\n",
       "      <td>6.988</td>\n",
       "      <td>0.780413</td>\n",
       "    </tr>\n",
       "  </tbody>\n",
       "</table>\n",
       "</div>"
      ],
      "text/plain": [
       "               T        dof alternative     p-val          CI95%   cohen-d  \\\n",
       "T-test  3.069227  17.674073   two-sided  0.006714  [3.45, 18.47]  1.319339   \n",
       "\n",
       "         BF10     power  \n",
       "T-test  6.988  0.780413  "
      ]
     },
     "execution_count": 136,
     "metadata": {},
     "output_type": "execute_result"
    }
   ],
   "source": [
    "pingouin.ttest(y1obs.ravel(), y0obs.ravel(), correction='auto')"
   ]
  },
  {
   "cell_type": "code",
   "execution_count": null,
   "metadata": {},
   "outputs": [],
   "source": []
  }
 ],
 "metadata": {
  "kernelspec": {
   "display_name": "Python 3",
   "language": "python",
   "name": "python3"
  },
  "language_info": {
   "codemirror_mode": {
    "name": "ipython",
    "version": 3
   },
   "file_extension": ".py",
   "mimetype": "text/x-python",
   "name": "python",
   "nbconvert_exporter": "python",
   "pygments_lexer": "ipython3",
   "version": "3.10.8"
  },
  "orig_nbformat": 4,
  "vscode": {
   "interpreter": {
    "hash": "898d3c6109607cac4667983f45c21ef7997d125c9b4da8292caa90a38e599c34"
   }
  }
 },
 "nbformat": 4,
 "nbformat_minor": 2
}
