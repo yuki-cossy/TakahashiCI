{
 "cells": [
  {
   "cell_type": "markdown",
   "metadata": {},
   "source": [
    "Rをまず起動できるようにする。以下のコードをR上で起動する。JupyterNotebookではなく。"
   ]
  },
  {
   "cell_type": "code",
   "execution_count": 1,
   "metadata": {
    "vscode": {
     "languageId": "r"
    }
   },
   "outputs": [],
   "source": [
    "# install.packages('IRkernel')\n",
    "IRkernel::installspec()"
   ]
  },
  {
   "cell_type": "markdown",
   "metadata": {},
   "source": [
    "# 1.9.3\n",
    "データの入力方法"
   ]
  },
  {
   "cell_type": "markdown",
   "metadata": {},
   "source": [
    "表1.2"
   ]
  },
  {
   "cell_type": "code",
   "execution_count": 2,
   "metadata": {
    "vscode": {
     "languageId": "r"
    }
   },
   "outputs": [
    {
     "data": {
      "text/html": [
       "<table class=\"dataframe\">\n",
       "<caption>A data.frame: 5 × 2</caption>\n",
       "<thead>\n",
       "\t<tr><th scope=col>x1</th><th scope=col>y1</th></tr>\n",
       "\t<tr><th scope=col>&lt;dbl&gt;</th><th scope=col>&lt;dbl&gt;</th></tr>\n",
       "</thead>\n",
       "<tbody>\n",
       "\t<tr><td>63</td><td>63</td></tr>\n",
       "\t<tr><td>56</td><td>66</td></tr>\n",
       "\t<tr><td>51</td><td>61</td></tr>\n",
       "\t<tr><td>50</td><td>60</td></tr>\n",
       "\t<tr><td>42</td><td>52</td></tr>\n",
       "</tbody>\n",
       "</table>\n"
      ],
      "text/latex": [
       "A data.frame: 5 × 2\n",
       "\\begin{tabular}{ll}\n",
       " x1 & y1\\\\\n",
       " <dbl> & <dbl>\\\\\n",
       "\\hline\n",
       "\t 63 & 63\\\\\n",
       "\t 56 & 66\\\\\n",
       "\t 51 & 61\\\\\n",
       "\t 50 & 60\\\\\n",
       "\t 42 & 52\\\\\n",
       "\\end{tabular}\n"
      ],
      "text/markdown": [
       "\n",
       "A data.frame: 5 × 2\n",
       "\n",
       "| x1 &lt;dbl&gt; | y1 &lt;dbl&gt; |\n",
       "|---|---|\n",
       "| 63 | 63 |\n",
       "| 56 | 66 |\n",
       "| 51 | 61 |\n",
       "| 50 | 60 |\n",
       "| 42 | 52 |\n",
       "\n"
      ],
      "text/plain": [
       "  x1 y1\n",
       "1 63 63\n",
       "2 56 66\n",
       "3 51 61\n",
       "4 50 60\n",
       "5 42 52"
      ]
     },
     "metadata": {},
     "output_type": "display_data"
    }
   ],
   "source": [
    "x1 <- c(63, 56, 51, 50, 42)\n",
    "y1 <- c(63, 66, 61, 60, 52)\n",
    "df1 <- data.frame(x1, y1)\n",
    "df1 # print() をしないと, Parse Error が出る。Katex の設定が原因っぽい。"
   ]
  },
  {
   "cell_type": "code",
   "execution_count": 3,
   "metadata": {
    "vscode": {
     "languageId": "r"
    }
   },
   "outputs": [
    {
     "data": {
      "text/html": [
       "52.4"
      ],
      "text/latex": [
       "52.4"
      ],
      "text/markdown": [
       "52.4"
      ],
      "text/plain": [
       "[1] 52.4"
      ]
     },
     "metadata": {},
     "output_type": "display_data"
    }
   ],
   "source": [
    "# <-と＝の違い\n",
    "mean(x1 <- c(63, 56, 51, 50, 42))\n",
    "# 以下はエラーが出る\n",
    "# mean(x1 = c(63, 56, 51, 50, 42))"
   ]
  },
  {
   "cell_type": "markdown",
   "metadata": {},
   "source": [
    "表1.3"
   ]
  },
  {
   "cell_type": "code",
   "execution_count": 4,
   "metadata": {
    "vscode": {
     "languageId": "r"
    }
   },
   "outputs": [],
   "source": [
    "# ワークスペースをきれいにする. pythonだと直接同じことが1行でできるコードは\n",
    "# 無さそう？あれば教えてください\n",
    "rm(list = ls())\n",
    "#rm(list <- ls()) #エラー。ここでは<-は使えないらしい\n",
    "\n",
    "\n",
    "#VSCode上だと以下のコードは普通にパスを求められる.\n",
    "#あと、jupyter notebookだと上手く行かないみたい\n",
    "#多分\n",
    "#data01 <- read.csv(file.choose()) "
   ]
  },
  {
   "cell_type": "markdown",
   "metadata": {},
   "source": [
    "tbl_df 型, tbl 型 は便利.   \n",
    "それらを扱える`dplyr` というパッケージは便利(`tidyverse` という複数のパッケージをまとめたパッケージに入っている).  \n",
    "\n",
    "readr::read_csv() で csv ファイルを読み込むと良いよ.  \n",
    "-> tbl_df, tbl, data.frame というクラスを継承するデータになる.  \n",
    "-> 詳しくはこれらをチェック.  \n",
    "-> [基本的解説](https://www.jaysong.net/RBook/datastructure.html#RN4Etibble%E5%9E%8B)  \n",
    "-> [発展的解説: オブジェクト指向](https://www.jaysong.net/RBook/oop.html#RN4E%E7%B6%99%E6%89%BF)  \n",
    "\n",
    "**覚えておくべきは、データを読み込むときは, とりあえず`library(tidyverse)` して `read_csv()` をすれば良いということ.**  "
   ]
  },
  {
   "cell_type": "code",
   "execution_count": 5,
   "metadata": {
    "vscode": {
     "languageId": "r"
    }
   },
   "outputs": [
    {
     "name": "stderr",
     "output_type": "stream",
     "text": [
      "-- \u001b[1mAttaching packages\u001b[22m --------------------------------------- tidyverse 1.3.2 --\n",
      "\u001b[32mv\u001b[39m \u001b[34mggplot2\u001b[39m 3.4.0      \u001b[32mv\u001b[39m \u001b[34mpurrr  \u001b[39m 0.3.5 \n",
      "\u001b[32mv\u001b[39m \u001b[34mtibble \u001b[39m 3.1.8      \u001b[32mv\u001b[39m \u001b[34mdplyr  \u001b[39m 1.0.10\n",
      "\u001b[32mv\u001b[39m \u001b[34mtidyr  \u001b[39m 1.2.1      \u001b[32mv\u001b[39m \u001b[34mstringr\u001b[39m 1.4.1 \n",
      "\u001b[32mv\u001b[39m \u001b[34mreadr  \u001b[39m 2.1.3      \u001b[32mv\u001b[39m \u001b[34mforcats\u001b[39m 0.5.2 \n",
      "-- \u001b[1mConflicts\u001b[22m ------------------------------------------ tidyverse_conflicts() --\n",
      "\u001b[31mx\u001b[39m \u001b[34mdplyr\u001b[39m::\u001b[32mfilter()\u001b[39m masks \u001b[34mstats\u001b[39m::filter()\n",
      "\u001b[31mx\u001b[39m \u001b[34mdplyr\u001b[39m::\u001b[32mlag()\u001b[39m    masks \u001b[34mstats\u001b[39m::lag()\n",
      "\u001b[1mRows: \u001b[22m\u001b[34m5\u001b[39m \u001b[1mColumns: \u001b[22m\u001b[34m2\u001b[39m\n",
      "\u001b[36m--\u001b[39m \u001b[1mColumn specification\u001b[22m \u001b[36m--------------------------------------------------------\u001b[39m\n",
      "\u001b[1mDelimiter:\u001b[22m \",\"\n",
      "\u001b[32mdbl\u001b[39m (2): x1, y1\n",
      "\n",
      "\u001b[36mi\u001b[39m Use `spec()` to retrieve the full column specification for this data.\n",
      "\u001b[36mi\u001b[39m Specify the column types or set `show_col_types = FALSE` to quiet this message.\n"
     ]
    },
    {
     "data": {
      "text/html": [
       "<table class=\"dataframe\">\n",
       "<caption>A tibble: 5 × 2</caption>\n",
       "<thead>\n",
       "\t<tr><th scope=col>x1</th><th scope=col>y1</th></tr>\n",
       "\t<tr><th scope=col>&lt;dbl&gt;</th><th scope=col>&lt;dbl&gt;</th></tr>\n",
       "</thead>\n",
       "<tbody>\n",
       "\t<tr><td>63</td><td>63</td></tr>\n",
       "\t<tr><td>56</td><td>66</td></tr>\n",
       "\t<tr><td>51</td><td>61</td></tr>\n",
       "\t<tr><td>50</td><td>60</td></tr>\n",
       "\t<tr><td>42</td><td>52</td></tr>\n",
       "</tbody>\n",
       "</table>\n"
      ],
      "text/latex": [
       "A tibble: 5 × 2\n",
       "\\begin{tabular}{ll}\n",
       " x1 & y1\\\\\n",
       " <dbl> & <dbl>\\\\\n",
       "\\hline\n",
       "\t 63 & 63\\\\\n",
       "\t 56 & 66\\\\\n",
       "\t 51 & 61\\\\\n",
       "\t 50 & 60\\\\\n",
       "\t 42 & 52\\\\\n",
       "\\end{tabular}\n"
      ],
      "text/markdown": [
       "\n",
       "A tibble: 5 × 2\n",
       "\n",
       "| x1 &lt;dbl&gt; | y1 &lt;dbl&gt; |\n",
       "|---|---|\n",
       "| 63 | 63 |\n",
       "| 56 | 66 |\n",
       "| 51 | 61 |\n",
       "| 50 | 60 |\n",
       "| 42 | 52 |\n",
       "\n"
      ],
      "text/plain": [
       "  x1 y1\n",
       "1 63 63\n",
       "2 56 66\n",
       "3 51 61\n",
       "4 50 60\n",
       "5 42 52"
      ]
     },
     "metadata": {},
     "output_type": "display_data"
    }
   ],
   "source": [
    "# readrパッケージのread_csvもある\n",
    "# 以下引用\n",
    "# read.csv()で読み込まれた表は data.frame クラスに、read_csv()関数で読み込まれた表は tibble クラスとして保存される。\n",
    "# 宋, 矢内(2022). 私たちのR: ベストプラクティスの探究.\n",
    "# https://www.jaysong.net/RBook/io.html#fn31\n",
    "\n",
    "# install.packages('tidyverse')\n",
    "library('tidyverse')\n",
    "data01 <- read_csv(\"../causality-main/data01.csv\")\n",
    "head(data01)\n"
   ]
  },
  {
   "cell_type": "code",
   "execution_count": 6,
   "metadata": {
    "vscode": {
     "languageId": "r"
    }
   },
   "outputs": [
    {
     "data": {
      "text/plain": [
       "       x1             y1      \n",
       " Min.   :42.0   Min.   :52.0  \n",
       " 1st Qu.:50.0   1st Qu.:60.0  \n",
       " Median :51.0   Median :61.0  \n",
       " Mean   :52.4   Mean   :60.4  \n",
       " 3rd Qu.:56.0   3rd Qu.:63.0  \n",
       " Max.   :63.0   Max.   :66.0  "
      ]
     },
     "metadata": {},
     "output_type": "display_data"
    }
   ],
   "source": [
    "summary(data01)"
   ]
  },
  {
   "cell_type": "markdown",
   "metadata": {},
   "source": [
    "# 1.9.4"
   ]
  },
  {
   "cell_type": "code",
   "execution_count": 7,
   "metadata": {
    "vscode": {
     "languageId": "r"
    }
   },
   "outputs": [
    {
     "data": {
      "text/html": [
       "<table class=\"dataframe\">\n",
       "<caption>A tibble: 1 × 2</caption>\n",
       "<thead>\n",
       "\t<tr><th scope=col>x1</th><th scope=col>y1</th></tr>\n",
       "\t<tr><th scope=col>&lt;dbl&gt;</th><th scope=col>&lt;dbl&gt;</th></tr>\n",
       "</thead>\n",
       "<tbody>\n",
       "\t<tr><td>51</td><td>61</td></tr>\n",
       "</tbody>\n",
       "</table>\n"
      ],
      "text/latex": [
       "A tibble: 1 × 2\n",
       "\\begin{tabular}{ll}\n",
       " x1 & y1\\\\\n",
       " <dbl> & <dbl>\\\\\n",
       "\\hline\n",
       "\t 51 & 61\\\\\n",
       "\\end{tabular}\n"
      ],
      "text/markdown": [
       "\n",
       "A tibble: 1 × 2\n",
       "\n",
       "| x1 &lt;dbl&gt; | y1 &lt;dbl&gt; |\n",
       "|---|---|\n",
       "| 51 | 61 |\n",
       "\n"
      ],
      "text/plain": [
       "  x1 y1\n",
       "1 51 61"
      ]
     },
     "metadata": {},
     "output_type": "display_data"
    }
   ],
   "source": [
    "# pythonとRの参照の違い\n",
    "data01[3, ]\n",
    "# data01[3, :] # これはエラーになる\n",
    "\n",
    "\n",
    "\n",
    "# \"\"\"\n",
    "# ちなみに、docstring (triple quotations)は Python の記法なので、R では使えないことに注意。\n",
    "# \"\"\"\n"
   ]
  },
  {
   "cell_type": "code",
   "execution_count": 8,
   "metadata": {
    "vscode": {
     "languageId": "r"
    }
   },
   "outputs": [
    {
     "data": {
      "text/html": [
       "<table class=\"dataframe\">\n",
       "<caption>A tibble: 5 × 1</caption>\n",
       "<thead>\n",
       "\t<tr><th scope=col>y1</th></tr>\n",
       "\t<tr><th scope=col>&lt;dbl&gt;</th></tr>\n",
       "</thead>\n",
       "<tbody>\n",
       "\t<tr><td>63</td></tr>\n",
       "\t<tr><td>66</td></tr>\n",
       "\t<tr><td>61</td></tr>\n",
       "\t<tr><td>60</td></tr>\n",
       "\t<tr><td>52</td></tr>\n",
       "</tbody>\n",
       "</table>\n"
      ],
      "text/latex": [
       "A tibble: 5 × 1\n",
       "\\begin{tabular}{l}\n",
       " y1\\\\\n",
       " <dbl>\\\\\n",
       "\\hline\n",
       "\t 63\\\\\n",
       "\t 66\\\\\n",
       "\t 61\\\\\n",
       "\t 60\\\\\n",
       "\t 52\\\\\n",
       "\\end{tabular}\n"
      ],
      "text/markdown": [
       "\n",
       "A tibble: 5 × 1\n",
       "\n",
       "| y1 &lt;dbl&gt; |\n",
       "|---|\n",
       "| 63 |\n",
       "| 66 |\n",
       "| 61 |\n",
       "| 60 |\n",
       "| 52 |\n",
       "\n"
      ],
      "text/plain": [
       "  y1\n",
       "1 63\n",
       "2 66\n",
       "3 61\n",
       "4 60\n",
       "5 52"
      ]
     },
     "metadata": {},
     "output_type": "display_data"
    },
    {
     "data": {
      "text/html": [
       "<table class=\"dataframe\">\n",
       "<caption>A tibble: 5 × 1</caption>\n",
       "<thead>\n",
       "\t<tr><th scope=col>y1</th></tr>\n",
       "\t<tr><th scope=col>&lt;dbl&gt;</th></tr>\n",
       "</thead>\n",
       "<tbody>\n",
       "\t<tr><td>63</td></tr>\n",
       "\t<tr><td>66</td></tr>\n",
       "\t<tr><td>61</td></tr>\n",
       "\t<tr><td>60</td></tr>\n",
       "\t<tr><td>52</td></tr>\n",
       "</tbody>\n",
       "</table>\n"
      ],
      "text/latex": [
       "A tibble: 5 × 1\n",
       "\\begin{tabular}{l}\n",
       " y1\\\\\n",
       " <dbl>\\\\\n",
       "\\hline\n",
       "\t 63\\\\\n",
       "\t 66\\\\\n",
       "\t 61\\\\\n",
       "\t 60\\\\\n",
       "\t 52\\\\\n",
       "\\end{tabular}\n"
      ],
      "text/markdown": [
       "\n",
       "A tibble: 5 × 1\n",
       "\n",
       "| y1 &lt;dbl&gt; |\n",
       "|---|\n",
       "| 63 |\n",
       "| 66 |\n",
       "| 61 |\n",
       "| 60 |\n",
       "| 52 |\n",
       "\n"
      ],
      "text/plain": [
       "  y1\n",
       "1 63\n",
       "2 66\n",
       "3 61\n",
       "4 60\n",
       "5 52"
      ]
     },
     "metadata": {},
     "output_type": "display_data"
    },
    {
     "data": {
      "text/html": [
       "<table class=\"dataframe\">\n",
       "<caption>A tibble: 1 × 1</caption>\n",
       "<thead>\n",
       "\t<tr><th scope=col>y1</th></tr>\n",
       "\t<tr><th scope=col>&lt;dbl&gt;</th></tr>\n",
       "</thead>\n",
       "<tbody>\n",
       "\t<tr><td>61</td></tr>\n",
       "</tbody>\n",
       "</table>\n"
      ],
      "text/latex": [
       "A tibble: 1 × 1\n",
       "\\begin{tabular}{l}\n",
       " y1\\\\\n",
       " <dbl>\\\\\n",
       "\\hline\n",
       "\t 61\\\\\n",
       "\\end{tabular}\n"
      ],
      "text/markdown": [
       "\n",
       "A tibble: 1 × 1\n",
       "\n",
       "| y1 &lt;dbl&gt; |\n",
       "|---|\n",
       "| 61 |\n",
       "\n"
      ],
      "text/plain": [
       "  y1\n",
       "1 61"
      ]
     },
     "metadata": {},
     "output_type": "display_data"
    }
   ],
   "source": [
    "data01[, 2]\n",
    "data01[1:length(as.data.frame(data01)[, 2]), 2] #これはエラーにならない\n",
    "data01[3, 2]"
   ]
  },
  {
   "cell_type": "code",
   "execution_count": 9,
   "metadata": {
    "vscode": {
     "languageId": "r"
    }
   },
   "outputs": [
    {
     "data": {
      "text/html": [
       "52.4"
      ],
      "text/latex": [
       "52.4"
      ],
      "text/markdown": [
       "52.4"
      ],
      "text/plain": [
       "[1] 52.4"
      ]
     },
     "metadata": {},
     "output_type": "display_data"
    },
    {
     "data": {
      "text/html": [
       "7.76530746332687"
      ],
      "text/latex": [
       "7.76530746332687"
      ],
      "text/markdown": [
       "7.76530746332687"
      ],
      "text/plain": [
       "[1] 7.765307"
      ]
     },
     "metadata": {},
     "output_type": "display_data"
    }
   ],
   "source": [
    "mean(data01$x1)\n",
    "sd(data01$x1) #default ddof=1"
   ]
  },
  {
   "cell_type": "code",
   "execution_count": 10,
   "metadata": {
    "vscode": {
     "languageId": "r"
    }
   },
   "outputs": [
    {
     "data": {
      "text/html": [
       "60.4"
      ],
      "text/latex": [
       "60.4"
      ],
      "text/markdown": [
       "60.4"
      ],
      "text/plain": [
       "[1] 60.4"
      ]
     },
     "metadata": {},
     "output_type": "display_data"
    },
    {
     "data": {
      "text/html": [
       "5.22494019104525"
      ],
      "text/latex": [
       "5.22494019104525"
      ],
      "text/markdown": [
       "5.22494019104525"
      ],
      "text/plain": [
       "[1] 5.22494"
      ]
     },
     "metadata": {},
     "output_type": "display_data"
    }
   ],
   "source": [
    "mean(data01$y1)\n",
    "sd(data01$y1) #default ddof=1"
   ]
  },
  {
   "cell_type": "code",
   "execution_count": 11,
   "metadata": {
    "vscode": {
     "languageId": "r"
    }
   },
   "outputs": [
    {
     "name": "stderr",
     "output_type": "stream",
     "text": [
      "Warning message in mean.default(data01[, 1]):\n",
      "\"argument is not numeric or logical: returning NA\"\n"
     ]
    },
    {
     "data": {
      "text/html": [
       "&lt;NA&gt;"
      ],
      "text/latex": [
       "<NA>"
      ],
      "text/markdown": [
       "&lt;NA&gt;"
      ],
      "text/plain": [
       "[1] NA"
      ]
     },
     "metadata": {},
     "output_type": "display_data"
    },
    {
     "data": {
      "text/html": [
       "52.4"
      ],
      "text/latex": [
       "52.4"
      ],
      "text/markdown": [
       "52.4"
      ],
      "text/plain": [
       "[1] 52.4"
      ]
     },
     "metadata": {},
     "output_type": "display_data"
    },
    {
     "data": {
      "text/html": [
       "52.4"
      ],
      "text/latex": [
       "52.4"
      ],
      "text/markdown": [
       "52.4"
      ],
      "text/plain": [
       "[1] 52.4"
      ]
     },
     "metadata": {},
     "output_type": "display_data"
    }
   ],
   "source": [
    "#read.csvとread_csvの違い\n",
    "mean(data01[, 1]) #NAになる. #理由は多分tibbleクラス(list)で格納されているため.\n",
    "#read.csvで保存すればdf[,1]でも変数の指定が可能\n",
    "data001 <- read.csv(\"../causality-main/data01.csv\")\n",
    "mean(data001[, 1])\n",
    "#もしくは直接変数の型を変更すれば良い\n",
    "mean(as.data.frame(data01)[, 1])"
   ]
  },
  {
   "cell_type": "code",
   "execution_count": 12,
   "metadata": {
    "vscode": {
     "languageId": "r"
    }
   },
   "outputs": [
    {
     "data": {
      "text/html": [
       "<table class=\"dataframe\">\n",
       "<caption>A matrix: 2 × 2 of type dbl</caption>\n",
       "<tbody>\n",
       "\t<tr><td>52.4</td><td>7.765307</td></tr>\n",
       "\t<tr><td>60.4</td><td>5.224940</td></tr>\n",
       "</tbody>\n",
       "</table>\n"
      ],
      "text/latex": [
       "A matrix: 2 × 2 of type dbl\n",
       "\\begin{tabular}{ll}\n",
       "\t 52.4 & 7.765307\\\\\n",
       "\t 60.4 & 5.224940\\\\\n",
       "\\end{tabular}\n"
      ],
      "text/markdown": [
       "\n",
       "A matrix: 2 × 2 of type dbl\n",
       "\n",
       "| 52.4 | 7.765307 |\n",
       "| 60.4 | 5.224940 |\n",
       "\n"
      ],
      "text/plain": [
       "     [,1] [,2]    \n",
       "[1,] 52.4 7.765307\n",
       "[2,] 60.4 5.224940"
      ]
     },
     "metadata": {},
     "output_type": "display_data"
    }
   ],
   "source": [
    "output <- matrix(NA, 2, 2)\n",
    "for(j in 1:2){ #forの後の#ofloopは()で囲わないといけない\n",
    "    output[j, 1] <- mean(data001[, j])\n",
    "    output[j, 2] <- sd(data001[, j])\n",
    "}\n",
    "output"
   ]
  },
  {
   "cell_type": "code",
   "execution_count": 13,
   "metadata": {
    "vscode": {
     "languageId": "r"
    }
   },
   "outputs": [
    {
     "data": {
      "text/html": [
       "<style>\n",
       ".dl-inline {width: auto; margin:0; padding: 0}\n",
       ".dl-inline>dt, .dl-inline>dd {float: none; width: auto; display: inline-block}\n",
       ".dl-inline>dt::after {content: \":\\0020\"; padding-right: .5ex}\n",
       ".dl-inline>dt:not(:first-of-type) {padding-left: .5ex}\n",
       "</style><dl class=dl-inline><dt>x1</dt><dd>52.4</dd><dt>y1</dt><dd>60.4</dd></dl>\n"
      ],
      "text/latex": [
       "\\begin{description*}\n",
       "\\item[x1] 52.4\n",
       "\\item[y1] 60.4\n",
       "\\end{description*}\n"
      ],
      "text/markdown": [
       "x1\n",
       ":   52.4y1\n",
       ":   60.4\n",
       "\n"
      ],
      "text/plain": [
       "  x1   y1 \n",
       "52.4 60.4 "
      ]
     },
     "metadata": {},
     "output_type": "display_data"
    },
    {
     "data": {
      "text/html": [
       "<style>\n",
       ".dl-inline {width: auto; margin:0; padding: 0}\n",
       ".dl-inline>dt, .dl-inline>dd {float: none; width: auto; display: inline-block}\n",
       ".dl-inline>dt::after {content: \":\\0020\"; padding-right: .5ex}\n",
       ".dl-inline>dt:not(:first-of-type) {padding-left: .5ex}\n",
       "</style><dl class=dl-inline><dt>x1</dt><dd>7.76530746332687</dd><dt>y1</dt><dd>5.22494019104525</dd></dl>\n"
      ],
      "text/latex": [
       "\\begin{description*}\n",
       "\\item[x1] 7.76530746332687\n",
       "\\item[y1] 5.22494019104525\n",
       "\\end{description*}\n"
      ],
      "text/markdown": [
       "x1\n",
       ":   7.76530746332687y1\n",
       ":   5.22494019104525\n",
       "\n"
      ],
      "text/plain": [
       "      x1       y1 \n",
       "7.765307 5.224940 "
      ]
     },
     "metadata": {},
     "output_type": "display_data"
    }
   ],
   "source": [
    "#for loopの代わりにapplyも使える\n",
    "apply(data01, 2, mean) #ここでは普通にtibble型の変数でも使える\n",
    "apply(data01, 2, sd)"
   ]
  },
  {
   "cell_type": "code",
   "execution_count": null,
   "metadata": {
    "vscode": {
     "languageId": "r"
    }
   },
   "outputs": [],
   "source": []
  }
 ],
 "metadata": {
  "kernelspec": {
   "display_name": "R",
   "language": "R",
   "name": "ir"
  },
  "language_info": {
   "codemirror_mode": "r",
   "file_extension": ".r",
   "mimetype": "text/x-r-source",
   "name": "R",
   "pygments_lexer": "r",
   "version": "4.2.2"
  },
  "orig_nbformat": 4
 },
 "nbformat": 4,
 "nbformat_minor": 2
}
